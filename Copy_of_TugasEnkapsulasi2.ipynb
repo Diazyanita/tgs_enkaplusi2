{
  "nbformat": 4,
  "nbformat_minor": 0,
  "metadata": {
    "colab": {
      "provenance": [],
      "include_colab_link": true
    },
    "kernelspec": {
      "name": "python3",
      "display_name": "Python 3"
    },
    "language_info": {
      "name": "python"
    }
  },
  "cells": [
    {
      "cell_type": "markdown",
      "metadata": {
        "id": "view-in-github",
        "colab_type": "text"
      },
      "source": [
        "<a href=\"https://colab.research.google.com/github/Diazyanita/tgs_enkaplusi2/blob/main/Copy_of_TugasEnkapsulasi2.ipynb\" target=\"_parent\"><img src=\"https://colab.research.google.com/assets/colab-badge.svg\" alt=\"Open In Colab\"/></a>"
      ]
    },
    {
      "cell_type": "markdown",
      "source": [
        "Buatlah kelas RekeningBank dengan atribut berikut:\n",
        "\n",
        "*   nama_pemilik (private)\n",
        "*   saldo (private)\n",
        "\n",
        "Berikan metode berikut:\n",
        "\n",
        "*   __init__: Menginisialisasi saldo dan nama_pemilik.\n",
        "*   set_saldo: Mengubah nilai saldo.\n",
        "*   get_saldo: Mengembalikan nilai saldo.\n",
        "*   set_nama_pemilik: Mengubah nama pemilik.\n",
        "*   get_nama_pemilik: Mengembalikan nama pemilik.\n",
        "\n",
        "\n",
        "\n",
        "\n",
        "\n",
        "\n",
        "\n",
        "\n"
      ],
      "metadata": {
        "id": "PktiI90eS6Ee"
      }
    },
    {
      "cell_type": "code",
      "source": [
        "class RekeningBank:\n",
        "  def __init__(self, nama_pemilik, saldo):\n",
        "    self.nama_pemilik = nama_pemilik\n",
        "    self.saldo = saldo\n",
        "\n",
        "  def set_saldo(self, saldo):\n",
        "    self.saldo = saldo\n",
        "\n",
        "  def get_saldo(self):\n",
        "    return self.saldo\n",
        "\n",
        "  def set_nama_pemilik(self, nama_pemilik):\n",
        "    return self.nama_pemilik\n"
      ],
      "metadata": {
        "id": "Pyj-mkyciVfk"
      },
      "execution_count": 1,
      "outputs": []
    },
    {
      "cell_type": "code",
      "source": [
        "class RekeningBank:\n",
        "  def __init__(self, nama, saldo):\n",
        "    self.nama = nama\n",
        "    self.saldo = saldo\n",
        "\n",
        "  def tambah_saldo(self, jumlah):\n",
        "    self.saldo += jumlah\n",
        "    print(f\"Tambah saldo sebesar {jumlah} berhasil. Total saldo sekarang: {self.saldo}\")\n",
        "\n",
        "  def tarik_saldo(self, jumlah):\n",
        "    if self.saldo < jumlah:\n",
        "      print(\"Maaf, saldo tidak cukup.\")\n",
        "    else:\n",
        "      self.saldo -= jumlah\n",
        "      print(f\"Tarik saldo sebesar {jumlah} berhasil. Total saldo sekarang: {self.saldo}\")\n",
        "\n",
        "\n",
        "rekeningZ = RekeningBank(\"Eizer\", 55555555)\n",
        "print(\"Nama:\", rekening1.nama)\n",
        "print(\"Saldo awal:\", rekeningZ.saldo)\n",
        "\n",
        "rekening1.tambah_saldo(500000)\n",
        "rekening1.tarik_saldo(60000)\n",
        "rekening1.tarik_saldo(2000)\n",
        "rekening1.tambah_saldo(10000000)\n",
        "\n",
        "rekeningA = RekeningBank(\"kana\", 6000000000)\n",
        "print(\"Nama:\", rekeningA.nama)\n",
        "print(\"Saldo awal:\", rekeningA.saldo)\n",
        "\n",
        "rekeningA.tarik_saldo(1000000)\n",
        "rekeningA.tambah_saldo(600000)"
      ],
      "metadata": {
        "id": "uUOIvzRXqPjY",
        "colab": {
          "base_uri": "https://localhost:8080/"
        },
        "outputId": "8d0a1127-097b-4949-9d45-9edb587565df"
      },
      "execution_count": 4,
      "outputs": [
        {
          "output_type": "stream",
          "name": "stdout",
          "text": [
            "Nama: Deco\n",
            "Saldo awal: 55555555\n",
            "Tambah saldo sebesar 500000 berhasil. Total saldo sekarang: 80038000\n",
            "Tarik saldo sebesar 60000 berhasil. Total saldo sekarang: 79978000\n",
            "Tarik saldo sebesar 2000 berhasil. Total saldo sekarang: 79976000\n",
            "Tambah saldo sebesar 10000000 berhasil. Total saldo sekarang: 89976000\n",
            "Nama: kana\n",
            "Saldo awal: 6000000000\n",
            "Tarik saldo sebesar 1000000 berhasil. Total saldo sekarang: 5999000000\n",
            "Tambah saldo sebesar 600000 berhasil. Total saldo sekarang: 5999600000\n"
          ]
        }
      ]
    }
  ]
}